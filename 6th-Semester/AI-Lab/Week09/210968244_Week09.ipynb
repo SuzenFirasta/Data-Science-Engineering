{
  "nbformat": 4,
  "nbformat_minor": 0,
  "metadata": {
    "colab": {
      "provenance": []
    },
    "kernelspec": {
      "name": "python3",
      "display_name": "Python 3"
    },
    "language_info": {
      "name": "python"
    }
  },
  "cells": [
    {
      "cell_type": "code",
      "execution_count": 1,
      "metadata": {
        "id": "oO2T5NlP3eDy"
      },
      "outputs": [],
      "source": [
        "import gym\n",
        "import numpy as np"
      ]
    },
    {
      "cell_type": "code",
      "source": [
        "env = gym.make('CliffWalking-v0')"
      ],
      "metadata": {
        "colab": {
          "base_uri": "https://localhost:8080/"
        },
        "id": "DrXRGnw13rBH",
        "outputId": "8b560ad6-edb9-45d8-ebdb-2ce713631ce8"
      },
      "execution_count": 2,
      "outputs": [
        {
          "output_type": "stream",
          "name": "stderr",
          "text": [
            "/usr/local/lib/python3.10/dist-packages/ipykernel/ipkernel.py:283: DeprecationWarning: `should_run_async` will not call `transform_cell` automatically in the future. Please pass the result to `transformed_cell` argument and any exception that happen during thetransform in `preprocessing_exc_tuple` in IPython 7.17 and above.\n",
            "  and should_run_async(code)\n",
            "/usr/local/lib/python3.10/dist-packages/gym/core.py:317: DeprecationWarning: \u001b[33mWARN: Initializing wrapper in old step API which returns one bool instead of two. It is recommended to set `new_step_api=True` to use new step API. This will be the default behaviour in future.\u001b[0m\n",
            "  deprecation(\n",
            "/usr/local/lib/python3.10/dist-packages/gym/wrappers/step_api_compatibility.py:39: DeprecationWarning: \u001b[33mWARN: Initializing environment in old step API which returns one bool instead of two. It is recommended to set `new_step_api=True` to use new step API. This will be the default behaviour in future.\u001b[0m\n",
            "  deprecation(\n"
          ]
        }
      ]
    },
    {
      "cell_type": "code",
      "source": [
        "def monte_carlo_es(env, n_episodes=500):\n",
        "    Q = np.zeros((env.observation_space.n, env.action_space.n))\n",
        "    N = np.zeros((env.observation_space.n, env.action_space.n))\n",
        "    gamma = 1.0\n",
        "    total_steps = []\n",
        "\n",
        "    for i in range(n_episodes):\n",
        "        state = env.reset()\n",
        "        episode = []\n",
        "        done = False\n",
        "        steps = 0\n",
        "\n",
        "        # generate an episode using exploring starts\n",
        "        while not done:\n",
        "            action = np.random.choice(env.action_space.n)\n",
        "            next_state, reward, done, info = env.step(action)\n",
        "            episode.append((state, action, reward))\n",
        "            state = next_state\n",
        "            steps += 1\n",
        "        total_steps.append(steps)\n",
        "\n",
        "        # update Q values using the episode\n",
        "        returns = 0\n",
        "        for j in range(len(episode)-1, -1, -1):\n",
        "            state, action, reward = episode[j]\n",
        "            returns = gamma*returns + reward\n",
        "            N[state][action] += 1\n",
        "            Q[state][action] += (returns - Q[state][action])/N[state][action]\n",
        "\n",
        "    # derive optimal policy from Q values\n",
        "    policy = np.argmax(Q, axis=1)\n",
        "\n",
        "    return policy, Q, total_steps"
      ],
      "metadata": {
        "id": "xDFgZcIU3tKs"
      },
      "execution_count": 3,
      "outputs": []
    },
    {
      "cell_type": "code",
      "source": [
        "def on_policy_mc_control(env, n_episodes=500, epsilon=0.1):\n",
        "    Q = np.zeros((env.observation_space.n, env.action_space.n))\n",
        "    N = np.zeros((env.observation_space.n, env.action_space.n))\n",
        "    gamma = 1.0\n",
        "    total_steps = []\n",
        "\n",
        "    for i in range(n_episodes):\n",
        "        state = env.reset()\n",
        "        done = False\n",
        "        steps = 0\n",
        "\n",
        "        # generate an episode using Ɛ-soft policy\n",
        "        while not done:\n",
        "            if np.random.uniform(0, 1) < epsilon:\n",
        "                action = env.action_space.sample()\n",
        "            else:\n",
        "                action = np.argmax(Q[state])\n",
        "            next_state, reward, done, info = env.step(action)\n",
        "            N[state][action] += 1\n",
        "            Q[state][action] += (reward + gamma*np.max(Q[next_state]) - Q[state][action])/N[state][action]\n",
        "            state = next_state\n",
        "            steps += 1\n",
        "        total_steps.append(steps)\n",
        "\n",
        "    # derive optimal policy from Q values\n",
        "    policy = np.argmax(Q, axis=1)\n",
        "\n",
        "    return policy, Q, total_steps"
      ],
      "metadata": {
        "id": "ywWaDev63vY-"
      },
      "execution_count": 4,
      "outputs": []
    },
    {
      "cell_type": "code",
      "source": [
        "monte_carlo_es_policy, monte_carlo_es_q, total_steps_es = monte_carlo_es(env)\n",
        "on_policy_mc_control_policy, on_policy_mc_control_q, total_steps_control = on_policy_mc_control(env)"
      ],
      "metadata": {
        "colab": {
          "base_uri": "https://localhost:8080/"
        },
        "id": "OaCh8f7T3xeM",
        "outputId": "249916df-8b01-4f61-8d08-9a72392697cf"
      },
      "execution_count": 5,
      "outputs": [
        {
          "output_type": "stream",
          "name": "stderr",
          "text": [
            "/usr/local/lib/python3.10/dist-packages/gym/utils/passive_env_checker.py:241: DeprecationWarning: `np.bool8` is a deprecated alias for `np.bool_`.  (Deprecated NumPy 1.24)\n",
            "  if not isinstance(terminated, (bool, np.bool8)):\n"
          ]
        }
      ]
    },
    {
      "cell_type": "code",
      "source": [
        "print(str.format('Total Number of Steps taken to reach Optimal Policy using Monte Carlo ES: {}', sum(total_steps_es)))\n",
        "print(str.format('Total Number of Steps taken to reach Optimal Policy using On-Policy First-Visit MC Control: {}', sum(total_steps_control)))\n",
        ""
      ],
      "metadata": {
        "colab": {
          "base_uri": "https://localhost:8080/"
        },
        "id": "mbOBRnEk3zAN",
        "outputId": "71eec516-ba94-4f2b-a398-45358c03c80f"
      },
      "execution_count": 6,
      "outputs": [
        {
          "output_type": "stream",
          "name": "stdout",
          "text": [
            "Total Number of Steps taken to reach Optimal Policy using Monte Carlo ES: 3484417\n",
            "Total Number of Steps taken to reach Optimal Policy using On-Policy First-Visit MC Control: 18064\n"
          ]
        }
      ]
    },
    {
      "cell_type": "code",
      "source": [
        "print(str.format('Average Number of Steps per Episode taken to reach Optimal Policy using Monte Carlo ES: {}', sum(total_steps_es)/len(total_steps_es)))\n",
        "print(str.format('Average Number of Steps per Episode taken to reach Optimal Policy using On-Policy First-Visit MC Control: {}', sum(total_steps_control)/len(total_steps_control)))\n",
        ""
      ],
      "metadata": {
        "colab": {
          "base_uri": "https://localhost:8080/"
        },
        "id": "Q8Pn4PSh30Zc",
        "outputId": "402341aa-8499-42d3-ef12-13264bf1bd56"
      },
      "execution_count": 7,
      "outputs": [
        {
          "output_type": "stream",
          "name": "stdout",
          "text": [
            "Average Number of Steps per Episode taken to reach Optimal Policy using Monte Carlo ES: 6968.834\n",
            "Average Number of Steps per Episode taken to reach Optimal Policy using On-Policy First-Visit MC Control: 36.128\n"
          ]
        }
      ]
    }
  ]
}